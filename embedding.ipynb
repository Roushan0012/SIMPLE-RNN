{
 "cells": [
  {
   "cell_type": "code",
   "execution_count": 2,
   "id": "36048398",
   "metadata": {},
   "outputs": [],
   "source": [
    "from tensorflow.keras.preprocessing.text import one_hot"
   ]
  },
  {
   "cell_type": "code",
   "execution_count": 4,
   "id": "894a11c8",
   "metadata": {},
   "outputs": [],
   "source": [
    "## sentence\n",
    "sent=[\n",
    "    'the glass of milk',\n",
    "    'the glass of juice',\n",
    "    'the cup of tea',\n",
    "    'I am a good developer',\n",
    "    'understanding the meaning of words',\n",
    "    'your videos are good',\n",
    "]"
   ]
  },
  {
   "cell_type": "code",
   "execution_count": 5,
   "id": "d5fc11fc",
   "metadata": {},
   "outputs": [
    {
     "data": {
      "text/plain": [
       "['the glass of milk',\n",
       " 'the glass of juice',\n",
       " 'the cup of tea',\n",
       " 'I am a good developer',\n",
       " 'understanding the meaning of words',\n",
       " 'your videos are good']"
      ]
     },
     "execution_count": 5,
     "metadata": {},
     "output_type": "execute_result"
    }
   ],
   "source": [
    "sent"
   ]
  },
  {
   "cell_type": "code",
   "execution_count": 6,
   "id": "a86ac811",
   "metadata": {},
   "outputs": [],
   "source": [
    "## Define the vocabulary size \n",
    "voc_size=10000"
   ]
  },
  {
   "cell_type": "code",
   "execution_count": 8,
   "id": "68b5ef31",
   "metadata": {},
   "outputs": [
    {
     "data": {
      "text/plain": [
       "[[796, 9330, 5508, 124],\n",
       " [796, 9330, 5508, 9285],\n",
       " [796, 344, 5508, 8590],\n",
       " [3112, 5435, 7674, 7160, 5554],\n",
       " [1243, 796, 7154, 5508, 3280],\n",
       " [1774, 3631, 8470, 7160]]"
      ]
     },
     "execution_count": 8,
     "metadata": {},
     "output_type": "execute_result"
    }
   ],
   "source": [
    "## one hot representation\n",
    "one_hot_repr=[one_hot(words,voc_size)for words in sent]\n",
    "one_hot_repr"
   ]
  },
  {
   "cell_type": "code",
   "execution_count": 9,
   "id": "b18e92d2",
   "metadata": {},
   "outputs": [],
   "source": [
    "## word embedding Representation\n",
    "\n",
    "from tensorflow.keras.layers import Embedding \n",
    "# from tensorflow.keras.processing.sequence import pad_sequences\n",
    "from tensorflow.keras.utils import pad_sequences\n",
    "from tensorflow.keras.models import Sequential\n"
   ]
  },
  {
   "cell_type": "code",
   "execution_count": 10,
   "id": "3e0d93d3",
   "metadata": {},
   "outputs": [],
   "source": [
    "import numpy as np"
   ]
  },
  {
   "cell_type": "code",
   "execution_count": 11,
   "id": "36e04224",
   "metadata": {},
   "outputs": [
    {
     "name": "stdout",
     "output_type": "stream",
     "text": [
      "[[   0    0    0    0  796 9330 5508  124]\n",
      " [   0    0    0    0  796 9330 5508 9285]\n",
      " [   0    0    0    0  796  344 5508 8590]\n",
      " [   0    0    0 3112 5435 7674 7160 5554]\n",
      " [   0    0    0 1243  796 7154 5508 3280]\n",
      " [   0    0    0    0 1774 3631 8470 7160]]\n"
     ]
    }
   ],
   "source": [
    "sent_length = 8\n",
    "embedded_docs=pad_sequences(one_hot_repr,padding='pre',maxlen=sent_length)\n",
    "print(embedded_docs)\n"
   ]
  },
  {
   "cell_type": "code",
   "execution_count": 12,
   "id": "d05707e4",
   "metadata": {},
   "outputs": [],
   "source": [
    "## feature reprenetation\n",
    "dim=10"
   ]
  },
  {
   "cell_type": "code",
   "execution_count": 13,
   "id": "aca8bf44",
   "metadata": {},
   "outputs": [],
   "source": [
    "model=Sequential()\n",
    "model.add(Embedding(voc_size,dim,input_length=sent_length))\n",
    "model.compile('adam','mse')"
   ]
  },
  {
   "cell_type": "code",
   "execution_count": 14,
   "id": "0cbb58b6",
   "metadata": {},
   "outputs": [
    {
     "name": "stdout",
     "output_type": "stream",
     "text": [
      "Model: \"sequential\"\n",
      "_________________________________________________________________\n",
      " Layer (type)                Output Shape              Param #   \n",
      "=================================================================\n",
      " embedding (Embedding)       (None, 8, 10)             100000    \n",
      "                                                                 \n",
      "=================================================================\n",
      "Total params: 100000 (390.62 KB)\n",
      "Trainable params: 100000 (390.62 KB)\n",
      "Non-trainable params: 0 (0.00 Byte)\n",
      "_________________________________________________________________\n"
     ]
    }
   ],
   "source": [
    "model.summary()"
   ]
  },
  {
   "cell_type": "code",
   "execution_count": 17,
   "id": "055ed6fc",
   "metadata": {},
   "outputs": [
    {
     "name": "stdout",
     "output_type": "stream",
     "text": [
      "1/1 [==============================] - 0s 20ms/step\n"
     ]
    },
    {
     "data": {
      "text/plain": [
       "array([[ 0.00256116,  0.04753057,  0.04783863,  0.02355507, -0.00418573,\n",
       "        -0.02987833,  0.02018856, -0.00811797, -0.02902373,  0.04652785],\n",
       "       [ 0.00256116,  0.04753057,  0.04783863,  0.02355507, -0.00418573,\n",
       "        -0.02987833,  0.02018856, -0.00811797, -0.02902373,  0.04652785],\n",
       "       [ 0.00256116,  0.04753057,  0.04783863,  0.02355507, -0.00418573,\n",
       "        -0.02987833,  0.02018856, -0.00811797, -0.02902373,  0.04652785],\n",
       "       [ 0.00256116,  0.04753057,  0.04783863,  0.02355507, -0.00418573,\n",
       "        -0.02987833,  0.02018856, -0.00811797, -0.02902373,  0.04652785],\n",
       "       [ 0.0470178 , -0.03091234, -0.04346193,  0.0055664 ,  0.0336298 ,\n",
       "        -0.00230434,  0.03088537, -0.00919346, -0.00360781,  0.04829613],\n",
       "       [-0.01804278,  0.04821516, -0.03813352,  0.03879846,  0.03403732,\n",
       "        -0.04133616,  0.01177847, -0.02548893, -0.02737864,  0.02203835],\n",
       "       [ 0.03311782,  0.00426393, -0.04863599, -0.04077375, -0.00332776,\n",
       "         0.03212792,  0.04160165,  0.0387569 ,  0.0464125 , -0.04211123],\n",
       "       [-0.04188656, -0.03106154, -0.01403444,  0.03485448,  0.0265347 ,\n",
       "        -0.01380937, -0.01806134,  0.01779548, -0.03942771,  0.02569598]],\n",
       "      dtype=float32)"
      ]
     },
     "execution_count": 17,
     "metadata": {},
     "output_type": "execute_result"
    }
   ],
   "source": [
    "model.predict(embedded_docs[0])"
   ]
  },
  {
   "cell_type": "code",
   "execution_count": 18,
   "id": "4639a6e2",
   "metadata": {},
   "outputs": [
    {
     "data": {
      "text/plain": [
       "array([   0,    0,    0,    0,  796, 9330, 5508,  124], dtype=int32)"
      ]
     },
     "execution_count": 18,
     "metadata": {},
     "output_type": "execute_result"
    }
   ],
   "source": [
    "embedded_docs[0]"
   ]
  },
  {
   "cell_type": "code",
   "execution_count": null,
   "id": "6eb53c77",
   "metadata": {},
   "outputs": [],
   "source": []
  },
  {
   "cell_type": "code",
   "execution_count": null,
   "id": "7081fc94",
   "metadata": {},
   "outputs": [],
   "source": []
  },
  {
   "cell_type": "code",
   "execution_count": null,
   "id": "35dd854f",
   "metadata": {},
   "outputs": [],
   "source": []
  }
 ],
 "metadata": {
  "kernelspec": {
   "display_name": "Python 3",
   "language": "python",
   "name": "python3"
  },
  "language_info": {
   "codemirror_mode": {
    "name": "ipython",
    "version": 3
   },
   "file_extension": ".py",
   "mimetype": "text/x-python",
   "name": "python",
   "nbconvert_exporter": "python",
   "pygments_lexer": "ipython3",
   "version": "3.11.0"
  }
 },
 "nbformat": 4,
 "nbformat_minor": 5
}
